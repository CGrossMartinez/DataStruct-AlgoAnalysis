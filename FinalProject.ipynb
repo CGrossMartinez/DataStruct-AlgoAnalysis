{
  "nbformat": 4,
  "nbformat_minor": 0,
  "metadata": {
    "colab": {
      "name": "FinalProject.ipynb",
      "provenance": [],
      "collapsed_sections": []
    },
    "kernelspec": {
      "name": "python3",
      "display_name": "Python 3"
    },
    "language_info": {
      "name": "python"
    }
  },
  "cells": [
    {
      "cell_type": "code",
      "metadata": {
        "colab": {
          "base_uri": "https://localhost:8080/"
        },
        "id": "gPxm26TR0H2Q",
        "outputId": "dc1415eb-3e7b-4a05-fdbc-cd06914aac21"
      },
      "source": [
        "import math\n",
        "\n",
        "def insertion_sort(A): \n",
        "  for j in range(1, len(A)):\n",
        "    key = A[j]\n",
        "    i = j - 1\n",
        "    while i >= 0 and A[i] > key:\n",
        "      A[i + 1] = A[i]\n",
        "      i = i - 1    \n",
        "    A[i + 1] = key\n",
        "\n",
        "A = [6, 10, 15, 13, 8, 16, 3, 4, 1, 9]\n",
        "insertion_sort(A)\n",
        "print(A)"
      ],
      "execution_count": null,
      "outputs": [
        {
          "output_type": "stream",
          "text": [
            "[1, 3, 4, 6, 8, 9, 10, 13, 15, 16]\n"
          ],
          "name": "stdout"
        }
      ]
    },
    {
      "cell_type": "code",
      "metadata": {
        "colab": {
          "base_uri": "https://localhost:8080/"
        },
        "id": "MkChRNTu0lMK",
        "outputId": "df7a5f42-8621-46ed-a9bf-cb622b31f60d"
      },
      "source": [
        "import math\n",
        "\n",
        "def left(i):\n",
        "  return 2 * i\n",
        "\n",
        "def right(i):\n",
        "  return (2 * i) + 1\n",
        "\n",
        "def max_heapify(A, i):\n",
        "  n = len(A) - 1\n",
        "  l = left(i)\n",
        "  r = right(i)\n",
        "  if l <= n and A[l] > A[i]:\n",
        "    largest = l\n",
        "  else:\n",
        "    largest = i  \n",
        "  if r <= n and A[r] > A[largest]:\n",
        "    largest = r\n",
        "  if largest != i:\n",
        "    temp = A[i]\n",
        "    A[i] = A[largest]\n",
        "    A[largest] = temp\n",
        "    max_heapify(A, largest)\n",
        "\n",
        "def build_max_heap(A):\n",
        "  n = len(A) - 1\n",
        "  for i in range (math.floor(n/2), 1, -1):\n",
        "    max_heapify(A,i)\n",
        "\n",
        "def heapsort(A):  \n",
        "  n = len(A) - 1\n",
        "  build_max_heap(A)\n",
        "  for j in range(n, 0, -1):\n",
        "    temp = A[0]\n",
        "    A[0] = A[j]\n",
        "    A[j] = temp\n",
        "    max_heapify(A, 1)\n",
        "  \n",
        "A = [6, 10, 15, 13, 8, 16, 3, 4, 1, 9]\n",
        "heapsort(A)\n",
        "print(A)"
      ],
      "execution_count": null,
      "outputs": [
        {
          "output_type": "stream",
          "text": [
            "[16, 15, 13, 9, 10, 3, 4, 1, 8, 6]\n"
          ],
          "name": "stdout"
        }
      ]
    },
    {
      "cell_type": "code",
      "metadata": {
        "id": "rK7BIBZW9GdA",
        "colab": {
          "base_uri": "https://localhost:8080/"
        },
        "outputId": "d92cab27-5824-4b7f-d1ad-67cbca19dfa2"
      },
      "source": [
        "import math\n",
        "import random\n",
        "\n",
        "def partition(A, p, r):\n",
        "  x = A[r]\n",
        "  i = p - 1\n",
        "  for j in range(p, r):\n",
        "    if A[j] <= x:\n",
        "      i = i + 1\n",
        "      temp = A[i]\n",
        "      A[i] = A[j]\n",
        "      A[j] = temp  \n",
        "  temp = A[i + 1]\n",
        "  A[i + 1] = A[r]\n",
        "  A[r] = temp\n",
        "  return i + 1\n",
        "\n",
        "def randomize_partition(A, p, r):\n",
        "  i = random.randint(p, r)\n",
        "  temp = A[i]\n",
        "  A[i] = A[r]\n",
        "  A[r] = temp\n",
        "  return partition(A, p, r)\n",
        "\n",
        "def randomized_select(A,p,r,i):\n",
        "  if p == r:\n",
        "    return A[p]  \n",
        "  q = randomize_partition(A,p,r)\n",
        "  k = q - p + 1\n",
        "  if i == k:\n",
        "    return A[q]\n",
        "  elif i < k:\n",
        "    return randomized_select(A, p, q-1, i)\n",
        "  else:\n",
        "    return randomized_select(A, q+1, r, i-k)\n",
        "\n",
        "A = [6, 10, 15, 13, 8, 16, 3, 4, 1, 9]\n",
        "i = math.floor((2 * len(A)) / 3)\n",
        "randomized_select(A, 0, len(A) - 1, i)\n",
        "print(A[i])\n",
        "print(A)"
      ],
      "execution_count": null,
      "outputs": [
        {
          "output_type": "stream",
          "text": [
            "10\n",
            "[3, 1, 4, 8, 6, 9, 10, 15, 13, 16]\n"
          ],
          "name": "stdout"
        }
      ]
    },
    {
      "cell_type": "code",
      "metadata": {
        "colab": {
          "base_uri": "https://localhost:8080/"
        },
        "id": "jlYI75E6ej2C",
        "outputId": "bbdd20d3-dec7-4cab-efb4-7c242c5a2b4a"
      },
      "source": [
        "import math\n",
        "import time\n",
        "import random\n",
        "import numpy as np\n",
        "\n",
        "###############################INSERTION SORT##################################\n",
        "def insertion_sort(A): \n",
        "  for j in range(1, len(A)):\n",
        "    key = A[j]\n",
        "    i = j - 1\n",
        "    while i >= 0 and A[i] > key:\n",
        "      A[i + 1] = A[i]\n",
        "      i = i - 1    \n",
        "    A[i + 1] = key\n",
        "\n",
        "################################HEAP SORT#####################################\n",
        "def left(i):\n",
        "  return 2 * i\n",
        "\n",
        "def right(i):\n",
        "  return (2 * i) + 1\n",
        "\n",
        "def max_heapify(A, i):\n",
        "  n = len(A) - 1\n",
        "  l = left(i)\n",
        "  r = right(i)\n",
        "  if l <= n and A[l] > A[i]:\n",
        "    largest = l\n",
        "  else:\n",
        "    largest = i  \n",
        "  if r <= n and A[r] > A[largest]:\n",
        "    largest = r\n",
        "  if largest != i:\n",
        "    temp = A[i]\n",
        "    A[i] = A[largest]\n",
        "    A[largest] = temp\n",
        "    max_heapify(A, largest)\n",
        "\n",
        "def build_max_heap(A):\n",
        "  n = len(A) - 1\n",
        "  for i in range (math.floor(n/2), 1, -1):\n",
        "    max_heapify(A,i)\n",
        "\n",
        "def heapsort(A):  \n",
        "  n = len(A) - 1\n",
        "  build_max_heap(A)\n",
        "  for j in range(n, 0, -1):\n",
        "    temp = A[0]\n",
        "    A[0] = A[j]\n",
        "    A[j] = temp\n",
        "    max_heapify(A, 1)\n",
        "\n",
        "#############################RANDOMIZE SELECT#################################\n",
        "def partition(A, p, r):\n",
        "  x = A[r]\n",
        "  i = p - 1\n",
        "  for j in range(p, r):\n",
        "    if A[j] <= x:\n",
        "      i = i + 1\n",
        "      temp = A[i]\n",
        "      A[i] = A[j]\n",
        "      A[j] = temp  \n",
        "  temp = A[i + 1]\n",
        "  A[i + 1] = A[r]\n",
        "  A[r] = temp\n",
        "  return i + 1\n",
        "\n",
        "def randomize_partition(A, p, r):\n",
        "  i = random.randint(p, r)\n",
        "  temp = A[i]\n",
        "  A[i] = A[r]\n",
        "  A[r] = temp\n",
        "  return partition(A, p, r)\n",
        "\n",
        "def randomized_select(A,p,r,i):\n",
        "  if p == r:\n",
        "    return A[p]  \n",
        "  q = randomize_partition(A,p,r)\n",
        "  k = q - p + 1\n",
        "  if i == k:\n",
        "    return A[q]\n",
        "  elif i < k:\n",
        "    return randomized_select(A, p, q-1, i)\n",
        "  else:\n",
        "    return randomized_select(A, q+1, r, i-k)\n",
        "\n",
        "###############################MAIN PROGRAM###################################\n",
        "m = 5\n",
        "arr_num = 0\n",
        "\n",
        "time_heap = np.zeros((5,10))\n",
        "time_insert = np.zeros((5,10))\n",
        "time_rand_sel = np.zeros((5,10))\n",
        "\n",
        "avg_heap = np.zeros(10)\n",
        "avg_insert = np.zeros(10)\n",
        "avg_rand_sel = np.zeros(10)\n",
        "\n",
        "for j in range(0,m):\n",
        "  A[j] = np.random.randint(32767, size=10000)\n",
        "  #print(A[j])\n",
        "\n",
        "for n in range(0, 10000, 1000):\n",
        "  i = math.floor((2 * (n+1000) / 3))\n",
        "  #print(n+1000, i)\n",
        "\n",
        "  for j in range(0, 5):\n",
        "\n",
        "    #code to test times in insertion sort\n",
        "    B = A[j][0:n+1001]\n",
        "    t1 = time.perf_counter()\n",
        "    insertion_sort(B)\n",
        "    print(B[i])\n",
        "    t2 = time.perf_counter()\n",
        "    time_insert[j][arr_num] = t2 - t1\n",
        "\n",
        "    #code to test time in heap sort\n",
        "    B = A[j][0:n+1001]\n",
        "    t1 = time.perf_counter()\n",
        "    heapsort(B)\n",
        "    print(B[i])\n",
        "    t2 = time.perf_counter()\n",
        "    time_heap[j][arr_num] = t2 - t1\n",
        "\n",
        "    #code to test time in random select\n",
        "    B = A[j][0:n+1001]\n",
        "    t1 = time.perf_counter()\n",
        "    randomized_select(B, 0, len(B) - 1, i)\n",
        "    print(B[i])\n",
        "    t2 = time.perf_counter()\n",
        "    time_rand_sel[j][arr_num] = t2 - t1\n",
        "\n",
        "  arr_num = arr_num + 1  \n",
        "\n",
        "avg_insert = np.mean(time_insert, axis=0)\n",
        "avg_heap = np.mean(time_heap, axis=0)\n",
        "avg_rand_sel = np.mean(time_rand_sel, axis=0)\n",
        "print(avg_insert)\n",
        "print(avg_heap)\n",
        "print(avg_rand_sel)"
      ],
      "execution_count": null,
      "outputs": [
        {
          "output_type": "stream",
          "text": [
            "20716\n",
            "10216\n",
            "20716\n",
            "22303\n",
            "11110\n",
            "22303\n",
            "21173\n",
            "10554\n",
            "21177\n",
            "21131\n",
            "10751\n",
            "21131\n",
            "22378\n",
            "11047\n",
            "22378\n",
            "20837\n",
            "5137\n",
            "20837\n",
            "21842\n",
            "5664\n",
            "21842\n",
            "21175\n",
            "5534\n",
            "21831\n",
            "21613\n",
            "5288\n",
            "21613\n",
            "22378\n",
            "5761\n",
            "22378\n",
            "21374\n",
            "10907\n",
            "21374\n",
            "21796\n",
            "10908\n",
            "21796\n",
            "21272\n",
            "10687\n",
            "21301\n",
            "21927\n",
            "10416\n",
            "21927\n",
            "22365\n",
            "11267\n",
            "22365\n",
            "21453\n",
            "10885\n",
            "21453\n",
            "21827\n",
            "10980\n",
            "21827\n",
            "21255\n",
            "10708\n",
            "21255\n",
            "21937\n",
            "10638\n",
            "21937\n",
            "22241\n",
            "11031\n",
            "22241\n",
            "21458\n",
            "5368\n",
            "21504\n",
            "21654\n",
            "5522\n",
            "21654\n",
            "21272\n",
            "5419\n",
            "21282\n",
            "21927\n",
            "5500\n",
            "21927\n",
            "22278\n",
            "5809\n",
            "22278\n",
            "21521\n",
            "10918\n",
            "21521\n",
            "21746\n",
            "10955\n",
            "21865\n",
            "21326\n",
            "10835\n",
            "21331\n",
            "21813\n",
            "10676\n",
            "21813\n",
            "22222\n",
            "11158\n",
            "23728\n",
            "21527\n",
            "10887\n",
            "21527\n",
            "21723\n",
            "10946\n",
            "21796\n",
            "21373\n",
            "10801\n",
            "21373\n",
            "21902\n",
            "10660\n",
            "21902\n",
            "22093\n",
            "11058\n",
            "22093\n",
            "21567\n",
            "5405\n",
            "21567\n",
            "21751\n",
            "2727\n",
            "21771\n",
            "21568\n",
            "5523\n",
            "21568\n",
            "21844\n",
            "5341\n",
            "21844\n",
            "22057\n",
            "5579\n",
            "22057\n",
            "21645\n",
            "10896\n",
            "21682\n",
            "21799\n",
            "10991\n",
            "21799\n",
            "21564\n",
            "10828\n",
            "21564\n",
            "21857\n",
            "10783\n",
            "21857\n",
            "21943\n",
            "10914\n",
            "21988\n",
            "21645\n",
            "10884\n",
            "21648\n",
            "21799\n",
            "5438\n",
            "21799\n",
            "21668\n",
            "10858\n",
            "21668\n",
            "21840\n",
            "10773\n",
            "21844\n",
            "21908\n",
            "10816\n",
            "21908\n",
            "[0.12946617 0.42144223 0.77338536 1.2395309  1.68503422 2.17105054\n",
            " 3.16925457 4.15918193 3.8145689  6.14636164]\n",
            "[0.00426692 0.00876528 0.01246806 0.01580657 0.0198892  0.02357777\n",
            " 0.02829055 0.03058357 0.03504454 0.03807526]\n",
            "[0.00132732 0.00263388 0.00457306 0.00637257 0.00801507 0.00888402\n",
            " 0.00925221 0.0109634  0.01215688 0.0161309 ]\n"
          ],
          "name": "stdout"
        }
      ]
    },
    {
      "cell_type": "code",
      "metadata": {
        "colab": {
          "base_uri": "https://localhost:8080/",
          "height": 295
        },
        "id": "Fean4Z5sAQIf",
        "outputId": "141b7682-5253-4daf-d739-80fb863bb196"
      },
      "source": [
        "import matplotlib.pyplot as plt\n",
        "\n",
        "arr_sizes = []\n",
        "\n",
        "for j in range(0,10):\n",
        "  arr_sizes.append((j + 1)  * 1000)\n",
        "\n",
        "ert_insert = [0.12946617, 0.42144223, 0.77338536, 1.2395309, 1.68503422, \n",
        "                 2.17105054, 3.16925457, 4.15918193, 3.8145689,  6.14636164]\n",
        "\n",
        "ert_heap = [0.00426692, 0.00876528, 0.01246806, 0.01580657, 0.0198892, \n",
        "            0.02357777, 0.02829055, 0.03058357, 0.03504454, 0.03807526]\n",
        "\n",
        "ert_select = [0.00132732, 0.00263388, 0.00457306, 0.00637257, 0.00801507, \n",
        "              0.00888402, 0.00925221, 0.0109634,  0.01215688, 0.0161309]\n",
        "\n",
        "plt.title('Algorithm Empirical Running Time')\n",
        "plt.xlabel('Array Sizes')\n",
        "plt.ylabel('Avg Time (sec)')\n",
        "plt.plot(arr_sizes, ert_insert, '-r')\n",
        "plt.plot(arr_sizes, ert_heap, '-g')\n",
        "plt.plot(arr_sizes, ert_select, 'bo')\n",
        "plt.xticks(arr_sizes)\n",
        "plt.gca().legend(('Insertion Sort','Heapsort', 'Randomized Select'))\n",
        "plt.show()"
      ],
      "execution_count": null,
      "outputs": [
        {
          "output_type": "display_data",
          "data": {
            "image/png": "[encoded data removed]",
            "text/plain": [
              "<Figure size 432x288 with 1 Axes>"
            ]
          },
          "metadata": {
            "tags": [],
            "needs_background": "light"
          }
        }
      ]
    },
    {
      "cell_type": "code",
      "metadata": {
        "colab": {
          "base_uri": "https://localhost:8080/",
          "height": 295
        },
        "id": "e9SkSfFueRu7",
        "outputId": "d9205546-4d53-4804-9e60-79117dcb7950"
      },
      "source": [
        "import matplotlib.pyplot as plt\n",
        "\n",
        "arr_sizes = []\n",
        "\n",
        "for j in range(0,10):\n",
        "  arr_sizes.append((j + 1)  * 1000)\n",
        "\n",
        "ert_insert = [0.12946617, 0.42144223, 0.77338536, 1.2395309, 1.68503422, \n",
        "                 2.17105054, 3.16925457, 4.15918193, 3.8145689,  6.14636164]\n",
        "\n",
        "prt_insert = [0.12946617, 0.42144223, 0.77338536, 1.2395309, 1.68503422,\n",
        "              2.339539836, 3.184373665, 4.15918193, 4.978552928, 6.14636164]\n",
        "\n",
        "plt.title('Insertion Sort: Empirical & Predicted RTs')\n",
        "plt.xlabel('Array Sizes')\n",
        "plt.ylabel('Avg Time (sec)')\n",
        "plt.plot(arr_sizes, ert_insert, '-r')\n",
        "plt.plot(arr_sizes, prt_insert, '-g')\n",
        "plt.xticks(arr_sizes)\n",
        "plt.gca().legend(('Empirical RT','Predicted RT'))\n",
        "plt.show()"
      ],
      "execution_count": null,
      "outputs": [
        {
          "output_type": "display_data",
          "data": {
            "image/png": "[encoded data removed]",
            "text/plain": [
              "<Figure size 432x288 with 1 Axes>"
            ]
          },
          "metadata": {
            "tags": [],
            "needs_background": "light"
          }
        }
      ]
    },
    {
      "cell_type": "code",
      "metadata": {
        "colab": {
          "base_uri": "https://localhost:8080/",
          "height": 295
        },
        "id": "YkagHH7wgO9m",
        "outputId": "80f6a5e8-6af6-452f-ecbe-7eeb8ccd5e6c"
      },
      "source": [
        "import matplotlib.pyplot as plt\n",
        "\n",
        "arr_sizes = []\n",
        "\n",
        "for j in range(0,10):\n",
        "  arr_sizes.append((j + 1)  * 1000)\n",
        "\n",
        "ert_heap = [0.00426692, 0.00876528, 0.01246806, 0.01580657, 0.0198892, \n",
        "            0.02357777, 0.02829055, 0.03058357, 0.03504454, 0.03807526]\n",
        "\n",
        "prt_heap = [0.00426692, 0.00876528, 0.01246806, 0.01580657, 0.0198892, \n",
        "            0.023913983, 0.02829055, 0.030829071, 0.03504454, 0.03807526]\n",
        "\n",
        "plt.title('Heapsort: Empirical & Predicted RTs')\n",
        "plt.xlabel('Array Sizes')\n",
        "plt.ylabel('Avg Time (sec)')\n",
        "plt.plot(arr_sizes, ert_heap, '-r')\n",
        "plt.plot(arr_sizes, prt_heap, '-g')\n",
        "plt.xticks(arr_sizes)\n",
        "plt.gca().legend(('Empirical RT','Predicted RT'))\n",
        "plt.show()"
      ],
      "execution_count": null,
      "outputs": [
        {
          "output_type": "display_data",
          "data": {
            "image/png": "[encoded data removed]",
            "text/plain": [
              "<Figure size 432x288 with 1 Axes>"
            ]
          },
          "metadata": {
            "tags": [],
            "needs_background": "light"
          }
        }
      ]
    },
    {
      "cell_type": "code",
      "metadata": {
        "colab": {
          "base_uri": "https://localhost:8080/",
          "height": 295
        },
        "id": "C_Ldb3MshCWq",
        "outputId": "3ef73ccf-7490-4b9e-cc4c-c8953cddfdeb"
      },
      "source": [
        "import matplotlib.pyplot as plt\n",
        "\n",
        "arr_sizes = []\n",
        "\n",
        "for j in range(0,10):\n",
        "  arr_sizes.append((j + 1)  * 1000)\n",
        "\n",
        "ert_select = [0.00132732, 0.00263388, 0.00457306, 0.00637257, 0.00801507, \n",
        "              0.00888402, 0.00925221, 0.0109634,  0.01215688, 0.0161309]\n",
        "\n",
        "prt_select = [0.00161309, 0.00322618, 0.00483927, 0.00645236, 0.00806545,\n",
        "              0.00967854, 0.01129163, 0.01290472, 0.01451781, 0.0161309]\n",
        "\n",
        "plt.title('Randomize Select: Empirical & Predicted RTs')\n",
        "plt.xlabel('Array Sizes')\n",
        "plt.ylabel('Avg Time (sec)')\n",
        "plt.plot(arr_sizes, ert_select, '-r')\n",
        "plt.plot(arr_sizes, prt_select, '-g')\n",
        "plt.xticks(arr_sizes)\n",
        "plt.gca().legend(('Empirical RT','Predicted RT'))\n",
        "plt.show()"
      ],
      "execution_count": null,
      "outputs": [
        {
          "output_type": "display_data",
          "data": {
            "image/png": "[encoded data removed]",
            "text/plain": [
              "<Figure size 432x288 with 1 Axes>"
            ]
          },
          "metadata": {
            "tags": [],
            "needs_background": "light"
          }
        }
      ]
    }
  ]
}